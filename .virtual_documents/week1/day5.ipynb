


# imports
import os
import requests
import json
import sys
from typing import List
from dotenv import load_dotenv
from bs4 import BeautifulSoup
from IPython.display import Markdown, display, update_display
from openai import OpenAI


# Initialize and constants
# Load environment variables from .env file
load_dotenv('/Users/carloskamiya/documents/github/llm_engineering/keys.env')

# Get API key from environment
api_key = os.getenv('OPENAI_API_KEY')

# Check if API key exists
if not api_key:
    sys.exit("ERROR: OPENAI_API_KEY not found in environment variables. Please check your .env file.")

# Initialize OpenAI client with API key
try:
    client = OpenAI(api_key=api_key)
except Exception as e:
    sys.exit(f"ERROR: Failed to initialize OpenAI client: {str(e)}")
MODEL = 'gpt-4o-mini'
openai = OpenAI()


# A class to represent a Webpage

class Website:
    url: str
    title: str
    body: str
    links: List[str]
    text: str

    def __init__(self, url):
        self.url = url
        response = requests.get(url)
        self.body = response.content
        soup = BeautifulSoup(self.body, 'html.parser')
        self.title = soup.title.string if soup.title else "No title found"
        if soup.body:
            for irrelevant in soup.body(["script", "style", "img", "input"]):
                irrelevant.decompose()
            self.text = soup.body.get_text(separator="\n", strip=True)
        else:
            self.text = ""
        links = [link.get('href') for link in soup.find_all('a')]
        self.links = [link for link in links if link]

    def get_contents(self):
        return f"Webpage Title:\n{self.title}\nWebpage Contents:\n{self.text}\n\n"


ed = Website("https://www.cnn.com")
print(ed.get_contents())





link_system_prompt = "You are provided with a list of links found on a webpage. \
You are able to decide which of the links would be most relevant to include in a brochure about the company, \
such as links to an About page, or a Company page, or Careers/Jobs pages.\n"
link_system_prompt += "You should respond in JSON as in this example:"
link_system_prompt += """
{
    "links": [
        {"type": "about page", "url": "https://full.url/goes/here/about"},
        {"type": "careers page": "url": "https://another.full.url/careers"}
    ]
}
"""


#Alternative multi-shot prompting
link_system_prompt = "You are provided with a list of links found on a webpage. \
You are able to decide which of the links would be most relevant to include in a brochure about the company, \
such as links to an About page, or a Company page, or Careers/Jobs pages.\n"
link_system_prompt += "Here are several examples of how to classify different types of links:"

# Example 1: Standard website with absolute links
link_system_prompt += """
Input links:
https://company.com/about-us
https://company.com/privacy
https://company.com/careers
mailto:contact@company.com
https://company.com/team
https://company.com/terms

Output:
{
    "links": [
        {"type": "about page", "url": "https://company.com/about-us"},
        {"type": "team page", "url": "https://company.com/team"},
        {"type": "careers page", "url": "https://company.com/careers"}
    ]
}
"""

# Example 2: Website with relative links
link_system_prompt += """
Input links:
/who-we-are
/privacy-policy
/join-our-team
contact@company.com
/our-mission
/legal

Output:
{
    "links": [
        {"type": "about page", "url": "https://company.com/who-we-are"},
        {"type": "about page", "url": "https://company.com/our-mission"},
        {"type": "careers page", "url": "https://company.com/join-our-team"}
    ]
}
"""

# Example 3: Mixed format links with subdirectories
link_system_prompt += """
Input links:
https://company.com/about/history
/about/leadership
careers.html
company/values
https://company.com/legal/privacy
newsletter@company.com

Output:
{
    "links": [
        {"type": "about page", "url": "https://company.com/about/history"},
        {"type": "about page", "url": "https://company.com/about/leadership"},
        {"type": "about page", "url": "https://company.com/company/values"},
        {"type": "careers page", "url": "https://company.com/careers.html"}
    ]
}
"""


def get_links_user_prompt(website):
    user_prompt = f"Here is the list of links on the website of {website.url} - "
    user_prompt += "please decide which of these are relevant web links for a brochure about the company, respond with the full https URL in JSON format. \
Do not include Terms of Service, Privacy, email links.\n"
    user_prompt += "Links (some might be relative links):\n"
    user_prompt += "\n".join(website.links)
    return user_prompt


#More defined user_prompt
def get_links_user_prompt(website):
    user_prompt = f"Here is the list of links on the website of {website.url} - "
    user_prompt += "please decide which of these are relevant web links for a brochure about the company, respond with the full https URL in JSON format. \
Follow the examples above to properly handle both absolute and relative links. \
Do not include Terms of Service, Privacy, email links, or any other non-brochure content.\n"
    user_prompt += "Links (some might be relative links):\n"
    user_prompt += "\n".join(website.links)
    return user_prompt


print(get_links_user_prompt(ed))


def get_links(url):
    website = Website(url)
    completion = openai.chat.completions.create(
        model=MODEL,
        messages=[
            {"role": "system", "content": link_system_prompt},
            {"role": "user", "content": get_links_user_prompt(website)}
      ],
        response_format={"type": "json_object"}
    )
    result = completion.choices[0].message.content
    return json.loads(result)


get_links("https://cnn.com")





def get_all_details(url):
    result = "Landing page:\n"
    result += Website(url).get_contents()
    links = get_links(url)
    print("Found links:", links)
    for link in links["links"]:
        result += f"\n\n{link['type']}\n"
        result += Website(link["url"]).get_contents()
    return result


print(get_all_details("https://cnn.com"))


system_prompt = "You are an assistant that analyzes the contents of several relevant pages from a company website \
and creates a short brochure about the company for prospective customers, investors and recruits. Respond in markdown.\
Include details of company culture, customers and careers/jobs if you have the information."

# Or uncomment the lines below for a more humorous brochure - this demonstrates how easy it is to incorporate 'tone':

#system_prompt = "You are an assistant that analyzes the contents of several relevant pages from a company website \
#and creates a short humorous, entertaining, jokey brochure about the company for prospective customers, investors and recruits. Respond in markdown.\
#Include details of company culture, customers and careers/jobs if you have the information."



# A More Special Prompt
system_prompt = """You are an expert marketing copywriter who creates engaging company brochures based on website content. 
Your task is to analyze several relevant pages from a company website and create a well-structured brochure that appeals 
to prospective customers, investors, and potential employees.

Here's how you should structure and style the content:

# Example 1 - Standard Corporate Overview:
Input: About page and company mission
Output:
# [Company Name]: [Single Line Tagline]

## Who We Are
[2-3 engaging paragraphs about the company's mission, vision, and values]

## What Sets Us Apart
* [Key differentiator 1]
* [Key differentiator 2]
* [Key differentiator 3]

## Our Impact
[Concrete examples of company achievements, customer success stories, or market impact]

---

# Example 2 - Customer Success Section:
Input: Customer testimonials and case studies
Output:
## Trusted By Industry Leaders
[Brief overview of client base]

### Success Stories
> "[Impactful customer quote]"  
> — [Customer Name], [Position] at [Company]

**Key Results:**
* [Metric 1]
* [Metric 2]
* [Metric 3]

---

# Example 3 - Careers Section (Use casual, energetic tone):
Input: Careers page content
Output:
## 🚀 Join Our Adventure!
Hey there, future teammate! Ready to be part of something extraordinary?

### Why You'll Love It Here
* 🌟 **Culture That Rocks**: [engaging description]
* 💪 **Growth Opportunities**: [inspiring description]
* 🎯 **Impact**: [meaningful description]

### What Our Team Says
> "[Fun, authentic team member quote]"  
> — [Team Member], [Relatable Title]

📣 **Current Opportunities**
* [Key role categories or specific positions]
* [Growth areas]
* [Special programs or initiatives]

---

Remember to:
1. Maintain a professional yet warm tone for business sections
2. Use data and specific examples where available
3. Include visual elements through markdown (emojis, quotes, lists)
4. Make the careers section notably more conversational and engaging
5. Adapt the length based on available information
6. Include a clear call-to-action at the end of each section

Please format your response in clean, readable markdown with consistent spacing and formatting throughout."""



def get_brochure_user_prompt(company_name, url):
    user_prompt = f"You are looking at a company called: {company_name}\n"
    user_prompt += f"Here are the contents of its landing page and other relevant pages; use this information to build a short brochure of the company in markdown.\n"
    user_prompt += get_all_details(url)
    user_prompt = user_prompt[:20_000] # Truncate if more than 20,000 characters
    return user_prompt


def create_brochure(company_name, url):
    response = openai.chat.completions.create(
        model=MODEL,
        messages=[
            {"role": "system", "content": system_prompt},
            {"role": "user", "content": get_brochure_user_prompt(company_name, url)}
          ],
    )
    result = response.choices[0].message.content
    display(Markdown(result))


create_brochure("CNN", "https://cnn.com")








def stream_brochure(company_name, url):
    stream = openai.chat.completions.create(
        model=MODEL,
        messages=[
            {"role": "system", "content": system_prompt},
            {"role": "user", "content": get_brochure_user_prompt(company_name, url)}
          ],
        stream=True
    )
    
    response = ""
    display_handle = display(Markdown(""), display_id=True)
    for chunk in stream:
        response += chunk.choices[0].delta.content or ''
        response = response.replace("```","").replace("markdown", "")
        update_display(Markdown(response), display_id=display_handle.display_id)


stream_brochure("Anthropic", "https://anthropic.com")


stream_brochure("CNN", "https://cnn.com")


stream_brochure("HuggingFace", "https://huggingface.co")






